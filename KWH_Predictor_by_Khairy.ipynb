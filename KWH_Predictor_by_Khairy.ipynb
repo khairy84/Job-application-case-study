{
 "cells": [
  {
   "cell_type": "code",
   "execution_count": 2,
   "id": "c5700d6f",
   "metadata": {},
   "outputs": [],
   "source": [
    "import pandas as pd\n",
    "import numpy as np"
   ]
  },
  {
   "cell_type": "code",
   "execution_count": 78,
   "id": "a03efbf5",
   "metadata": {},
   "outputs": [
    {
     "name": "stderr",
     "output_type": "stream",
     "text": [
      "C:\\Users\\USER7\\anaconda3\\lib\\site-packages\\IPython\\core\\interactiveshell.py:3165: DtypeWarning: Columns (717,718) have mixed types.Specify dtype option on import or set low_memory=False.\n",
      "  has_raised = await self.run_ast_nodes(code_ast.body, cell_name,\n"
     ]
    }
   ],
   "source": [
    "data = pd.read_csv('recs2009_public.csv')"
   ]
  },
  {
   "cell_type": "code",
   "execution_count": 79,
   "id": "a4ba07fb",
   "metadata": {},
   "outputs": [
    {
     "name": "stdout",
     "output_type": "stream",
     "text": [
      "<class 'pandas.core.frame.DataFrame'>\n",
      "RangeIndex: 12083 entries, 0 to 12082\n",
      "Columns: 940 entries, DOEID to DesignDBT1\n",
      "dtypes: float64(50), int64(885), object(5)\n",
      "memory usage: 86.7+ MB\n"
     ]
    }
   ],
   "source": [
    "data.info()"
   ]
  },
  {
   "cell_type": "markdown",
   "id": "24bc28d9",
   "metadata": {},
   "source": [
    "### 5 columns as object"
   ]
  },
  {
   "cell_type": "code",
   "execution_count": 80,
   "id": "e2a2bef1",
   "metadata": {},
   "outputs": [
    {
     "data": {
      "text/html": [
       "<div>\n",
       "<style scoped>\n",
       "    .dataframe tbody tr th:only-of-type {\n",
       "        vertical-align: middle;\n",
       "    }\n",
       "\n",
       "    .dataframe tbody tr th {\n",
       "        vertical-align: top;\n",
       "    }\n",
       "\n",
       "    .dataframe thead th {\n",
       "        text-align: right;\n",
       "    }\n",
       "</style>\n",
       "<table border=\"1\" class=\"dataframe\">\n",
       "  <thead>\n",
       "    <tr style=\"text-align: right;\">\n",
       "      <th></th>\n",
       "      <th>METROMICRO</th>\n",
       "      <th>UR</th>\n",
       "      <th>NOCRCASH</th>\n",
       "      <th>NKRGALNC</th>\n",
       "      <th>IECC_Climate_Pub</th>\n",
       "    </tr>\n",
       "  </thead>\n",
       "  <tbody>\n",
       "    <tr>\n",
       "      <th>0</th>\n",
       "      <td>METRO</td>\n",
       "      <td>U</td>\n",
       "      <td>-2</td>\n",
       "      <td>-2</td>\n",
       "      <td>4A</td>\n",
       "    </tr>\n",
       "    <tr>\n",
       "      <th>1</th>\n",
       "      <td>METRO</td>\n",
       "      <td>U</td>\n",
       "      <td>-2</td>\n",
       "      <td>-2</td>\n",
       "      <td>3C</td>\n",
       "    </tr>\n",
       "    <tr>\n",
       "      <th>2</th>\n",
       "      <td>METRO</td>\n",
       "      <td>U</td>\n",
       "      <td>-2</td>\n",
       "      <td>-2</td>\n",
       "      <td>5A</td>\n",
       "    </tr>\n",
       "    <tr>\n",
       "      <th>3</th>\n",
       "      <td>METRO</td>\n",
       "      <td>U</td>\n",
       "      <td>-2</td>\n",
       "      <td>-2</td>\n",
       "      <td>5A</td>\n",
       "    </tr>\n",
       "    <tr>\n",
       "      <th>4</th>\n",
       "      <td>METRO</td>\n",
       "      <td>U</td>\n",
       "      <td>-2</td>\n",
       "      <td>-2</td>\n",
       "      <td>5A</td>\n",
       "    </tr>\n",
       "    <tr>\n",
       "      <th>...</th>\n",
       "      <td>...</td>\n",
       "      <td>...</td>\n",
       "      <td>...</td>\n",
       "      <td>...</td>\n",
       "      <td>...</td>\n",
       "    </tr>\n",
       "    <tr>\n",
       "      <th>12078</th>\n",
       "      <td>METRO</td>\n",
       "      <td>U</td>\n",
       "      <td>-2</td>\n",
       "      <td>-2</td>\n",
       "      <td>6A-6B</td>\n",
       "    </tr>\n",
       "    <tr>\n",
       "      <th>12079</th>\n",
       "      <td>METRO</td>\n",
       "      <td>U</td>\n",
       "      <td>-2</td>\n",
       "      <td>-2</td>\n",
       "      <td>3B-4B</td>\n",
       "    </tr>\n",
       "    <tr>\n",
       "      <th>12080</th>\n",
       "      <td>METRO</td>\n",
       "      <td>U</td>\n",
       "      <td>-2</td>\n",
       "      <td>-2</td>\n",
       "      <td>6A-6B</td>\n",
       "    </tr>\n",
       "    <tr>\n",
       "      <th>12081</th>\n",
       "      <td>METRO</td>\n",
       "      <td>U</td>\n",
       "      <td>-2</td>\n",
       "      <td>-2</td>\n",
       "      <td>5B-5C</td>\n",
       "    </tr>\n",
       "    <tr>\n",
       "      <th>12082</th>\n",
       "      <td>METRO</td>\n",
       "      <td>U</td>\n",
       "      <td>-2</td>\n",
       "      <td>-2</td>\n",
       "      <td>3C</td>\n",
       "    </tr>\n",
       "  </tbody>\n",
       "</table>\n",
       "<p>12083 rows × 5 columns</p>\n",
       "</div>"
      ],
      "text/plain": [
       "      METROMICRO UR NOCRCASH NKRGALNC IECC_Climate_Pub\n",
       "0          METRO  U       -2       -2               4A\n",
       "1          METRO  U       -2       -2               3C\n",
       "2          METRO  U       -2       -2               5A\n",
       "3          METRO  U       -2       -2               5A\n",
       "4          METRO  U       -2       -2               5A\n",
       "...          ... ..      ...      ...              ...\n",
       "12078      METRO  U       -2       -2            6A-6B\n",
       "12079      METRO  U       -2       -2            3B-4B\n",
       "12080      METRO  U       -2       -2            6A-6B\n",
       "12081      METRO  U       -2       -2            5B-5C\n",
       "12082      METRO  U       -2       -2               3C\n",
       "\n",
       "[12083 rows x 5 columns]"
      ]
     },
     "execution_count": 80,
     "metadata": {},
     "output_type": "execute_result"
    }
   ],
   "source": [
    "# check the object columns\n",
    "obj = data.dtypes =='object'\n",
    "obj_columns = data.columns[obj]\n",
    "data[obj_columns]"
   ]
  },
  {
   "cell_type": "code",
   "execution_count": 81,
   "id": "db55755d",
   "metadata": {},
   "outputs": [
    {
     "data": {
      "text/plain": [
       "array(['U', 'R'], dtype=object)"
      ]
     },
     "execution_count": 81,
     "metadata": {},
     "output_type": "execute_result"
    }
   ],
   "source": [
    "data.UR.unique() # categorical"
   ]
  },
  {
   "cell_type": "code",
   "execution_count": 82,
   "id": "251025a3",
   "metadata": {},
   "outputs": [
    {
     "data": {
      "text/plain": [
       "array(['4A', '3C', '5A', '6A-6B', '1A-2A', '3B-4B', '3A', '5B-5C',\n",
       "       '7A-7B-7AK-8AK', '2B', '4C'], dtype=object)"
      ]
     },
     "execution_count": 82,
     "metadata": {},
     "output_type": "execute_result"
    }
   ],
   "source": [
    "data.IECC_Climate_Pub.unique() # categorical"
   ]
  },
  {
   "cell_type": "code",
   "execution_count": 83,
   "id": "1c610b53",
   "metadata": {},
   "outputs": [
    {
     "data": {
      "text/plain": [
       "array(['METRO', 'MICRO', 'NONE'], dtype=object)"
      ]
     },
     "execution_count": 83,
     "metadata": {},
     "output_type": "execute_result"
    }
   ],
   "source": [
    "data.METROMICRO.unique() # categorical"
   ]
  },
  {
   "cell_type": "code",
   "execution_count": 164,
   "id": "cbac22fb",
   "metadata": {},
   "outputs": [
    {
     "data": {
      "text/plain": [
       "METRO    10300\n",
       "MICRO     1109\n",
       "NONE       672\n",
       "Name: METROMICRO, dtype: int64"
      ]
     },
     "execution_count": 164,
     "metadata": {},
     "output_type": "execute_result"
    }
   ],
   "source": [
    "# check if that \"none\" values effective or shall will drop it.\n",
    "data.METROMICRO.value_counts() "
   ]
  },
  {
   "cell_type": "markdown",
   "id": "61c2208c",
   "metadata": {},
   "source": [
    "\n",
    "\n",
    "\n",
    "........................\n",
    "\n",
    "####  Decided to not drop 672 observation, will keep it as a category.\n",
    "\n",
    "\n",
    "\n",
    "......................\n",
    "\n",
    "#### Checking the reason of showing numerical data as object (null, or unknown values).\n",
    "\n",
    "\n",
    "........."
   ]
  },
  {
   "cell_type": "code",
   "execution_count": 85,
   "id": "e9cf16f1",
   "metadata": {},
   "outputs": [
    {
     "data": {
      "text/plain": [
       "array([-2, 1, 6, 15, 4, '-2', '1', '20', '.', '12', '4', '10', '3', '24',\n",
       "       '55', '6', 8, 28, 5, 55, 3, 16, 2, 20, 10, 24, 40, 12, 25],\n",
       "      dtype=object)"
      ]
     },
     "execution_count": 85,
     "metadata": {},
     "output_type": "execute_result"
    }
   ],
   "source": [
    "data.NOCRCASH.unique() # '.' to be change to null, column to be converted to int"
   ]
  },
  {
   "cell_type": "code",
   "execution_count": 86,
   "id": "7993d764",
   "metadata": {},
   "outputs": [
    {
     "data": {
      "text/plain": [
       "array([-2, 1, 5, 10, '-2', '10', '15', '1', '8', '.', '5', '3', '2', '77',\n",
       "       30, 3, 15, 8, 55, 2, 20], dtype=object)"
      ]
     },
     "execution_count": 86,
     "metadata": {},
     "output_type": "execute_result"
    }
   ],
   "source": [
    "data.NKRGALNC.unique() # '.' to be change to null, column to be converted to int"
   ]
  },
  {
   "cell_type": "code",
   "execution_count": 87,
   "id": "3151dea5",
   "metadata": {},
   "outputs": [],
   "source": [
    "# convert '.' to nan, in order to make it easy to deal with it.\n",
    "data.NKRGALNC = [np.nan if data.NKRGALNC[i] =='.'  else data.NKRGALNC[i] for i in range(len(data.NKRGALNC))]\n",
    "data.NOCRCASH = [np.nan if data.NOCRCASH[i] =='.'  else data.NOCRCASH[i] for i in range(len(data.NOCRCASH))]"
   ]
  },
  {
   "cell_type": "code",
   "execution_count": 88,
   "id": "1d17bda1",
   "metadata": {},
   "outputs": [
    {
     "data": {
      "text/html": [
       "<div>\n",
       "<style scoped>\n",
       "    .dataframe tbody tr th:only-of-type {\n",
       "        vertical-align: middle;\n",
       "    }\n",
       "\n",
       "    .dataframe tbody tr th {\n",
       "        vertical-align: top;\n",
       "    }\n",
       "\n",
       "    .dataframe thead th {\n",
       "        text-align: right;\n",
       "    }\n",
       "</style>\n",
       "<table border=\"1\" class=\"dataframe\">\n",
       "  <thead>\n",
       "    <tr style=\"text-align: right;\">\n",
       "      <th></th>\n",
       "      <th>NOCRCASH</th>\n",
       "      <th>NKRGALNC</th>\n",
       "    </tr>\n",
       "  </thead>\n",
       "  <tbody>\n",
       "    <tr>\n",
       "      <th>0</th>\n",
       "      <td>-2</td>\n",
       "      <td>-2</td>\n",
       "    </tr>\n",
       "    <tr>\n",
       "      <th>1</th>\n",
       "      <td>-2</td>\n",
       "      <td>-2</td>\n",
       "    </tr>\n",
       "    <tr>\n",
       "      <th>2</th>\n",
       "      <td>-2</td>\n",
       "      <td>-2</td>\n",
       "    </tr>\n",
       "    <tr>\n",
       "      <th>3</th>\n",
       "      <td>-2</td>\n",
       "      <td>-2</td>\n",
       "    </tr>\n",
       "    <tr>\n",
       "      <th>4</th>\n",
       "      <td>-2</td>\n",
       "      <td>-2</td>\n",
       "    </tr>\n",
       "    <tr>\n",
       "      <th>...</th>\n",
       "      <td>...</td>\n",
       "      <td>...</td>\n",
       "    </tr>\n",
       "    <tr>\n",
       "      <th>12078</th>\n",
       "      <td>-2</td>\n",
       "      <td>-2</td>\n",
       "    </tr>\n",
       "    <tr>\n",
       "      <th>12079</th>\n",
       "      <td>-2</td>\n",
       "      <td>-2</td>\n",
       "    </tr>\n",
       "    <tr>\n",
       "      <th>12080</th>\n",
       "      <td>-2</td>\n",
       "      <td>-2</td>\n",
       "    </tr>\n",
       "    <tr>\n",
       "      <th>12081</th>\n",
       "      <td>-2</td>\n",
       "      <td>-2</td>\n",
       "    </tr>\n",
       "    <tr>\n",
       "      <th>12082</th>\n",
       "      <td>-2</td>\n",
       "      <td>-2</td>\n",
       "    </tr>\n",
       "  </tbody>\n",
       "</table>\n",
       "<p>12083 rows × 2 columns</p>\n",
       "</div>"
      ],
      "text/plain": [
       "      NOCRCASH NKRGALNC\n",
       "0           -2       -2\n",
       "1           -2       -2\n",
       "2           -2       -2\n",
       "3           -2       -2\n",
       "4           -2       -2\n",
       "...        ...      ...\n",
       "12078       -2       -2\n",
       "12079       -2       -2\n",
       "12080       -2       -2\n",
       "12081       -2       -2\n",
       "12082       -2       -2\n",
       "\n",
       "[12083 rows x 2 columns]"
      ]
     },
     "execution_count": 88,
     "metadata": {},
     "output_type": "execute_result"
    }
   ],
   "source": [
    "# checking null values in the whole data\n",
    "null = data.isnull().sum()>0\n",
    "null_col = data.columns[null]\n",
    "data[null_col]"
   ]
  },
  {
   "cell_type": "markdown",
   "id": "1ebd6360",
   "metadata": {},
   "source": [
    "\n",
    "\n",
    ".......................................................................................\n",
    "\n",
    "#### Only 2 columns has null values.\n",
    "In order to keep only categorical columns in our obj_columns mask:\n",
    "1. Drop null.\n",
    "2. Convert those colunms to numarical.\n",
    "3. Recall the object mask.\n",
    "\n",
    "........................................................................................\n"
   ]
  },
  {
   "cell_type": "code",
   "execution_count": 394,
   "id": "6a083e86",
   "metadata": {},
   "outputs": [],
   "source": [
    "# Drop the null values.\n",
    "\n",
    "data = data.dropna()\n",
    "\n",
    "\n",
    "# Change the numerical columns in the object mask to 'int' type.\n",
    "\n",
    "for col in data[obj_columns]:\n",
    "    try:\n",
    "        data[col] = data[col].astype('int64')\n",
    "    except ValueError:\n",
    "        data[col].dtypes =='object' "
   ]
  },
  {
   "cell_type": "code",
   "execution_count": 90,
   "id": "d5a01443",
   "metadata": {},
   "outputs": [
    {
     "data": {
      "text/html": [
       "<div>\n",
       "<style scoped>\n",
       "    .dataframe tbody tr th:only-of-type {\n",
       "        vertical-align: middle;\n",
       "    }\n",
       "\n",
       "    .dataframe tbody tr th {\n",
       "        vertical-align: top;\n",
       "    }\n",
       "\n",
       "    .dataframe thead th {\n",
       "        text-align: right;\n",
       "    }\n",
       "</style>\n",
       "<table border=\"1\" class=\"dataframe\">\n",
       "  <thead>\n",
       "    <tr style=\"text-align: right;\">\n",
       "      <th></th>\n",
       "      <th>METROMICRO</th>\n",
       "      <th>UR</th>\n",
       "      <th>IECC_Climate_Pub</th>\n",
       "    </tr>\n",
       "  </thead>\n",
       "  <tbody>\n",
       "    <tr>\n",
       "      <th>0</th>\n",
       "      <td>METRO</td>\n",
       "      <td>U</td>\n",
       "      <td>4A</td>\n",
       "    </tr>\n",
       "    <tr>\n",
       "      <th>1</th>\n",
       "      <td>METRO</td>\n",
       "      <td>U</td>\n",
       "      <td>3C</td>\n",
       "    </tr>\n",
       "    <tr>\n",
       "      <th>2</th>\n",
       "      <td>METRO</td>\n",
       "      <td>U</td>\n",
       "      <td>5A</td>\n",
       "    </tr>\n",
       "    <tr>\n",
       "      <th>3</th>\n",
       "      <td>METRO</td>\n",
       "      <td>U</td>\n",
       "      <td>5A</td>\n",
       "    </tr>\n",
       "    <tr>\n",
       "      <th>4</th>\n",
       "      <td>METRO</td>\n",
       "      <td>U</td>\n",
       "      <td>5A</td>\n",
       "    </tr>\n",
       "    <tr>\n",
       "      <th>...</th>\n",
       "      <td>...</td>\n",
       "      <td>...</td>\n",
       "      <td>...</td>\n",
       "    </tr>\n",
       "    <tr>\n",
       "      <th>12078</th>\n",
       "      <td>METRO</td>\n",
       "      <td>U</td>\n",
       "      <td>6A-6B</td>\n",
       "    </tr>\n",
       "    <tr>\n",
       "      <th>12079</th>\n",
       "      <td>METRO</td>\n",
       "      <td>U</td>\n",
       "      <td>3B-4B</td>\n",
       "    </tr>\n",
       "    <tr>\n",
       "      <th>12080</th>\n",
       "      <td>METRO</td>\n",
       "      <td>U</td>\n",
       "      <td>6A-6B</td>\n",
       "    </tr>\n",
       "    <tr>\n",
       "      <th>12081</th>\n",
       "      <td>METRO</td>\n",
       "      <td>U</td>\n",
       "      <td>5B-5C</td>\n",
       "    </tr>\n",
       "    <tr>\n",
       "      <th>12082</th>\n",
       "      <td>METRO</td>\n",
       "      <td>U</td>\n",
       "      <td>3C</td>\n",
       "    </tr>\n",
       "  </tbody>\n",
       "</table>\n",
       "<p>12081 rows × 3 columns</p>\n",
       "</div>"
      ],
      "text/plain": [
       "      METROMICRO UR IECC_Climate_Pub\n",
       "0          METRO  U               4A\n",
       "1          METRO  U               3C\n",
       "2          METRO  U               5A\n",
       "3          METRO  U               5A\n",
       "4          METRO  U               5A\n",
       "...          ... ..              ...\n",
       "12078      METRO  U            6A-6B\n",
       "12079      METRO  U            3B-4B\n",
       "12080      METRO  U            6A-6B\n",
       "12081      METRO  U            5B-5C\n",
       "12082      METRO  U               3C\n",
       "\n",
       "[12081 rows x 3 columns]"
      ]
     },
     "execution_count": 90,
     "metadata": {},
     "output_type": "execute_result"
    }
   ],
   "source": [
    "# Recall the object mask to keep only the categorical data columns.\n",
    "obj = data.dtypes =='object'\n",
    "obj_columns = data.columns[obj]\n",
    "data[obj_columns]"
   ]
  },
  {
   "cell_type": "code",
   "execution_count": 160,
   "id": "cda6f6d4",
   "metadata": {},
   "outputs": [],
   "source": [
    "from sklearn.preprocessing import LabelEncoder\n",
    "# Transforming the categorical data.\n",
    "le = LabelEncoder()\n",
    "df = data.copy()\n",
    "for col in df[obj_columns]:\n",
    "    df['_'.join([col, 'enc'])] = le.fit_transform(df[col]).astype('int64')"
   ]
  },
  {
   "cell_type": "code",
   "execution_count": 204,
   "id": "1721671d",
   "metadata": {},
   "outputs": [],
   "source": [
    "# drop the original categorical columns after capture copy.\n",
    "new_df = df.copy()\n",
    "new_df = new_df.drop(df[obj_columns], axis=1) "
   ]
  },
  {
   "cell_type": "code",
   "execution_count": 205,
   "id": "70eeddf5",
   "metadata": {},
   "outputs": [
    {
     "data": {
      "text/html": [
       "<div>\n",
       "<style scoped>\n",
       "    .dataframe tbody tr th:only-of-type {\n",
       "        vertical-align: middle;\n",
       "    }\n",
       "\n",
       "    .dataframe tbody tr th {\n",
       "        vertical-align: top;\n",
       "    }\n",
       "\n",
       "    .dataframe thead th {\n",
       "        text-align: right;\n",
       "    }\n",
       "</style>\n",
       "<table border=\"1\" class=\"dataframe\">\n",
       "  <thead>\n",
       "    <tr style=\"text-align: right;\">\n",
       "      <th></th>\n",
       "      <th>count</th>\n",
       "      <th>mean</th>\n",
       "      <th>std</th>\n",
       "      <th>min</th>\n",
       "      <th>25%</th>\n",
       "      <th>50%</th>\n",
       "      <th>75%</th>\n",
       "      <th>max</th>\n",
       "    </tr>\n",
       "  </thead>\n",
       "  <tbody>\n",
       "    <tr>\n",
       "      <th>DOEID</th>\n",
       "      <td>12081.0</td>\n",
       "      <td>6042.712110</td>\n",
       "      <td>3488.052612</td>\n",
       "      <td>1.0</td>\n",
       "      <td>3023.0</td>\n",
       "      <td>6043.0</td>\n",
       "      <td>9063.0</td>\n",
       "      <td>12083.0</td>\n",
       "    </tr>\n",
       "    <tr>\n",
       "      <th>REGIONC</th>\n",
       "      <td>12081.0</td>\n",
       "      <td>2.628590</td>\n",
       "      <td>1.042018</td>\n",
       "      <td>1.0</td>\n",
       "      <td>2.0</td>\n",
       "      <td>3.0</td>\n",
       "      <td>3.0</td>\n",
       "      <td>4.0</td>\n",
       "    </tr>\n",
       "    <tr>\n",
       "      <th>DIVISION</th>\n",
       "      <td>12081.0</td>\n",
       "      <td>5.373727</td>\n",
       "      <td>2.859161</td>\n",
       "      <td>1.0</td>\n",
       "      <td>3.0</td>\n",
       "      <td>5.0</td>\n",
       "      <td>7.0</td>\n",
       "      <td>10.0</td>\n",
       "    </tr>\n",
       "    <tr>\n",
       "      <th>REPORTABLE_DOMAIN</th>\n",
       "      <td>12081.0</td>\n",
       "      <td>14.785779</td>\n",
       "      <td>8.194842</td>\n",
       "      <td>1.0</td>\n",
       "      <td>8.0</td>\n",
       "      <td>15.0</td>\n",
       "      <td>21.0</td>\n",
       "      <td>27.0</td>\n",
       "    </tr>\n",
       "    <tr>\n",
       "      <th>TYPEHUQ</th>\n",
       "      <td>12081.0</td>\n",
       "      <td>2.659217</td>\n",
       "      <td>1.192346</td>\n",
       "      <td>1.0</td>\n",
       "      <td>2.0</td>\n",
       "      <td>2.0</td>\n",
       "      <td>3.0</td>\n",
       "      <td>5.0</td>\n",
       "    </tr>\n",
       "    <tr>\n",
       "      <th>...</th>\n",
       "      <td>...</td>\n",
       "      <td>...</td>\n",
       "      <td>...</td>\n",
       "      <td>...</td>\n",
       "      <td>...</td>\n",
       "      <td>...</td>\n",
       "      <td>...</td>\n",
       "      <td>...</td>\n",
       "    </tr>\n",
       "    <tr>\n",
       "      <th>DesignDBT99</th>\n",
       "      <td>12081.0</td>\n",
       "      <td>20.258753</td>\n",
       "      <td>15.337719</td>\n",
       "      <td>-23.0</td>\n",
       "      <td>9.0</td>\n",
       "      <td>18.0</td>\n",
       "      <td>33.0</td>\n",
       "      <td>67.0</td>\n",
       "    </tr>\n",
       "    <tr>\n",
       "      <th>DesignDBT1</th>\n",
       "      <td>12081.0</td>\n",
       "      <td>90.359407</td>\n",
       "      <td>6.167176</td>\n",
       "      <td>60.0</td>\n",
       "      <td>87.0</td>\n",
       "      <td>90.0</td>\n",
       "      <td>94.0</td>\n",
       "      <td>118.0</td>\n",
       "    </tr>\n",
       "    <tr>\n",
       "      <th>METROMICRO_enc</th>\n",
       "      <td>12081.0</td>\n",
       "      <td>0.203046</td>\n",
       "      <td>0.522580</td>\n",
       "      <td>0.0</td>\n",
       "      <td>0.0</td>\n",
       "      <td>0.0</td>\n",
       "      <td>0.0</td>\n",
       "      <td>2.0</td>\n",
       "    </tr>\n",
       "    <tr>\n",
       "      <th>UR_enc</th>\n",
       "      <td>12081.0</td>\n",
       "      <td>0.799106</td>\n",
       "      <td>0.400685</td>\n",
       "      <td>0.0</td>\n",
       "      <td>1.0</td>\n",
       "      <td>1.0</td>\n",
       "      <td>1.0</td>\n",
       "      <td>1.0</td>\n",
       "    </tr>\n",
       "    <tr>\n",
       "      <th>IECC_Climate_Pub_enc</th>\n",
       "      <td>12081.0</td>\n",
       "      <td>4.543829</td>\n",
       "      <td>2.807821</td>\n",
       "      <td>0.0</td>\n",
       "      <td>2.0</td>\n",
       "      <td>5.0</td>\n",
       "      <td>7.0</td>\n",
       "      <td>10.0</td>\n",
       "    </tr>\n",
       "  </tbody>\n",
       "</table>\n",
       "<p>940 rows × 8 columns</p>\n",
       "</div>"
      ],
      "text/plain": [
       "                        count         mean          std   min     25%     50%  \\\n",
       "DOEID                 12081.0  6042.712110  3488.052612   1.0  3023.0  6043.0   \n",
       "REGIONC               12081.0     2.628590     1.042018   1.0     2.0     3.0   \n",
       "DIVISION              12081.0     5.373727     2.859161   1.0     3.0     5.0   \n",
       "REPORTABLE_DOMAIN     12081.0    14.785779     8.194842   1.0     8.0    15.0   \n",
       "TYPEHUQ               12081.0     2.659217     1.192346   1.0     2.0     2.0   \n",
       "...                       ...          ...          ...   ...     ...     ...   \n",
       "DesignDBT99           12081.0    20.258753    15.337719 -23.0     9.0    18.0   \n",
       "DesignDBT1            12081.0    90.359407     6.167176  60.0    87.0    90.0   \n",
       "METROMICRO_enc        12081.0     0.203046     0.522580   0.0     0.0     0.0   \n",
       "UR_enc                12081.0     0.799106     0.400685   0.0     1.0     1.0   \n",
       "IECC_Climate_Pub_enc  12081.0     4.543829     2.807821   0.0     2.0     5.0   \n",
       "\n",
       "                         75%      max  \n",
       "DOEID                 9063.0  12083.0  \n",
       "REGIONC                  3.0      4.0  \n",
       "DIVISION                 7.0     10.0  \n",
       "REPORTABLE_DOMAIN       21.0     27.0  \n",
       "TYPEHUQ                  3.0      5.0  \n",
       "...                      ...      ...  \n",
       "DesignDBT99             33.0     67.0  \n",
       "DesignDBT1              94.0    118.0  \n",
       "METROMICRO_enc           0.0      2.0  \n",
       "UR_enc                   1.0      1.0  \n",
       "IECC_Climate_Pub_enc     7.0     10.0  \n",
       "\n",
       "[940 rows x 8 columns]"
      ]
     },
     "execution_count": 205,
     "metadata": {},
     "output_type": "execute_result"
    }
   ],
   "source": [
    "new_df.describe().T"
   ]
  },
  {
   "cell_type": "code",
   "execution_count": 206,
   "id": "72c88e50",
   "metadata": {},
   "outputs": [
    {
     "name": "stderr",
     "output_type": "stream",
     "text": [
      "<ipython-input-206-fdf665141551>:5: FutureWarning: Automatic reindexing on DataFrame vs Series comparisons is deprecated and will raise ValueError in a future version.  Do `left, right = left.align(right, axis=1, copy=False)` before e.g. `left == right`\n",
      "  ((df < (Q1 - 1.5 * IQR)) | (df > (Q3 + 1.5 * IQR))).sum().sort_values(ascending=False).head(20)\n",
      "<ipython-input-206-fdf665141551>:5: FutureWarning: Automatic reindexing on DataFrame vs Series comparisons is deprecated and will raise ValueError in a future version.  Do `left, right = left.align(right, axis=1, copy=False)` before e.g. `left == right`\n",
      "  ((df < (Q1 - 1.5 * IQR)) | (df > (Q3 + 1.5 * IQR))).sum().sort_values(ascending=False).head(20)\n"
     ]
    },
    {
     "data": {
      "text/plain": [
       "DVD2            5479\n",
       "CABLESAT1       5385\n",
       "CRAWL           5111\n",
       "COOLTYPE        4798\n",
       "EQUIPM          4520\n",
       "WELLPUMP        4242\n",
       "PLAYSTA2        4128\n",
       "DRYRUSE         4101\n",
       "TOPFRONT        3989\n",
       "DIGITSTB2       3944\n",
       "COMBOVCRDVD2    3808\n",
       "ELECCHRG        3757\n",
       "NUMTHERM        3705\n",
       "VCR2            3696\n",
       "TVONWD2         3532\n",
       "TVAUDIOSYS2     3011\n",
       "NUMFRIG         2916\n",
       "AGERFRI1        2897\n",
       "AGERFRI2        2897\n",
       "SIZRFRI2        2897\n",
       "dtype: int64"
      ]
     },
     "execution_count": 206,
     "metadata": {},
     "output_type": "execute_result"
    }
   ],
   "source": [
    "# outliers\n",
    "Q1 = df.quantile(0.25)\n",
    "Q3 = df.quantile(0.75)\n",
    "IQR = Q3 - Q1\n",
    "((df < (Q1 - 1.5 * IQR)) | (df > (Q3 + 1.5 * IQR))).sum().sort_values(ascending=False).head(20)"
   ]
  },
  {
   "cell_type": "code",
   "execution_count": 207,
   "id": "f0304799",
   "metadata": {},
   "outputs": [
    {
     "data": {
      "text/html": [
       "<div>\n",
       "<style scoped>\n",
       "    .dataframe tbody tr th:only-of-type {\n",
       "        vertical-align: middle;\n",
       "    }\n",
       "\n",
       "    .dataframe tbody tr th {\n",
       "        vertical-align: top;\n",
       "    }\n",
       "\n",
       "    .dataframe thead th {\n",
       "        text-align: right;\n",
       "    }\n",
       "</style>\n",
       "<table border=\"1\" class=\"dataframe\">\n",
       "  <thead>\n",
       "    <tr style=\"text-align: right;\">\n",
       "      <th></th>\n",
       "      <th>Skew</th>\n",
       "    </tr>\n",
       "  </thead>\n",
       "  <tbody>\n",
       "    <tr>\n",
       "      <th>ZSTOVEN</th>\n",
       "      <td>109.913602</td>\n",
       "    </tr>\n",
       "    <tr>\n",
       "      <th>ZDIFFUEL</th>\n",
       "      <td>109.913602</td>\n",
       "    </tr>\n",
       "    <tr>\n",
       "      <th>ZOTHERWAYLPG</th>\n",
       "      <td>109.913602</td>\n",
       "    </tr>\n",
       "    <tr>\n",
       "      <th>ZPCTATTHT</th>\n",
       "      <td>109.913602</td>\n",
       "    </tr>\n",
       "    <tr>\n",
       "      <th>ZFREEZER2</th>\n",
       "      <td>109.913602</td>\n",
       "    </tr>\n",
       "    <tr>\n",
       "      <th>...</th>\n",
       "      <td>...</td>\n",
       "    </tr>\n",
       "    <tr>\n",
       "      <th>PIPELESS</th>\n",
       "      <td>-4.767704</td>\n",
       "    </tr>\n",
       "    <tr>\n",
       "      <th>MICRO</th>\n",
       "      <td>-4.786991</td>\n",
       "    </tr>\n",
       "    <tr>\n",
       "      <th>HEATHOME</th>\n",
       "      <td>-4.912410</td>\n",
       "    </tr>\n",
       "    <tr>\n",
       "      <th>REFRIGT1</th>\n",
       "      <td>-5.378657</td>\n",
       "    </tr>\n",
       "    <tr>\n",
       "      <th>ELOTHER</th>\n",
       "      <td>-109.913602</td>\n",
       "    </tr>\n",
       "  </tbody>\n",
       "</table>\n",
       "<p>766 rows × 1 columns</p>\n",
       "</div>"
      ],
      "text/plain": [
       "                    Skew\n",
       "ZSTOVEN       109.913602\n",
       "ZDIFFUEL      109.913602\n",
       "ZOTHERWAYLPG  109.913602\n",
       "ZPCTATTHT     109.913602\n",
       "ZFREEZER2     109.913602\n",
       "...                  ...\n",
       "PIPELESS       -4.767704\n",
       "MICRO          -4.786991\n",
       "HEATHOME       -4.912410\n",
       "REFRIGT1       -5.378657\n",
       "ELOTHER      -109.913602\n",
       "\n",
       "[766 rows x 1 columns]"
      ]
     },
     "execution_count": 207,
     "metadata": {},
     "output_type": "execute_result"
    }
   ],
   "source": [
    "# Showing the skewed columns\n",
    "skew_limit = 0.75 \n",
    "skew_vals = new_df.skew()\n",
    "\n",
    "skew_cols = (skew_vals\n",
    "             .sort_values(ascending=False)\n",
    "             .to_frame()\n",
    "             .rename(columns={0:'Skew'})\n",
    "             .query('abs(Skew) > {}'.format(skew_limit)))\n",
    "\n",
    "skew_cols"
   ]
  },
  {
   "cell_type": "markdown",
   "id": "3ce7a969",
   "metadata": {},
   "source": [
    "### There are a lot of outliers, and data containing many skewed columns:\n",
    "#### Taking log will be better."
   ]
  },
  {
   "cell_type": "code",
   "execution_count": 256,
   "id": "37f215c8",
   "metadata": {},
   "outputs": [],
   "source": [
    "#The data containing zero values and negative values. need to add value with log.\n",
    "\n",
    "new_df = new_df.apply(lambda x: np.log(x+25))"
   ]
  },
  {
   "cell_type": "code",
   "execution_count": 263,
   "id": "69a04543",
   "metadata": {},
   "outputs": [
    {
     "data": {
      "text/html": [
       "<div>\n",
       "<style scoped>\n",
       "    .dataframe tbody tr th:only-of-type {\n",
       "        vertical-align: middle;\n",
       "    }\n",
       "\n",
       "    .dataframe tbody tr th {\n",
       "        vertical-align: top;\n",
       "    }\n",
       "\n",
       "    .dataframe thead th {\n",
       "        text-align: right;\n",
       "    }\n",
       "</style>\n",
       "<table border=\"1\" class=\"dataframe\">\n",
       "  <thead>\n",
       "    <tr style=\"text-align: right;\">\n",
       "      <th></th>\n",
       "    </tr>\n",
       "  </thead>\n",
       "  <tbody>\n",
       "    <tr>\n",
       "      <th>0</th>\n",
       "    </tr>\n",
       "    <tr>\n",
       "      <th>1</th>\n",
       "    </tr>\n",
       "    <tr>\n",
       "      <th>2</th>\n",
       "    </tr>\n",
       "    <tr>\n",
       "      <th>3</th>\n",
       "    </tr>\n",
       "    <tr>\n",
       "      <th>4</th>\n",
       "    </tr>\n",
       "    <tr>\n",
       "      <th>...</th>\n",
       "    </tr>\n",
       "    <tr>\n",
       "      <th>12078</th>\n",
       "    </tr>\n",
       "    <tr>\n",
       "      <th>12079</th>\n",
       "    </tr>\n",
       "    <tr>\n",
       "      <th>12080</th>\n",
       "    </tr>\n",
       "    <tr>\n",
       "      <th>12081</th>\n",
       "    </tr>\n",
       "    <tr>\n",
       "      <th>12082</th>\n",
       "    </tr>\n",
       "  </tbody>\n",
       "</table>\n",
       "<p>12081 rows × 0 columns</p>\n",
       "</div>"
      ],
      "text/plain": [
       "Empty DataFrame\n",
       "Columns: []\n",
       "Index: [0, 1, 2, 3, 4, 5, 6, 7, 8, 9, 10, 11, 12, 13, 14, 15, 16, 17, 18, 19, 20, 21, 22, 23, 24, 25, 26, 27, 28, 29, 30, 31, 32, 33, 34, 35, 36, 37, 38, 39, 40, 41, 42, 43, 44, 45, 46, 47, 48, 49, 50, 51, 52, 53, 54, 55, 56, 57, 58, 59, 60, 61, 62, 63, 64, 65, 66, 67, 68, 69, 70, 71, 72, 73, 74, 75, 76, 77, 78, 79, 80, 81, 82, 83, 84, 85, 86, 87, 88, 89, 90, 91, 92, 93, 94, 95, 96, 97, 98, 99, ...]\n",
       "\n",
       "[12081 rows x 0 columns]"
      ]
     },
     "execution_count": 263,
     "metadata": {},
     "output_type": "execute_result"
    }
   ],
   "source": [
    "# checking if any value transformed to be null after log.\n",
    "null_values = new_df.isnull().sum()>0\n",
    "null_col = new_df.columns[null_values]\n",
    "new_df[null_col]"
   ]
  },
  {
   "cell_type": "markdown",
   "id": "d102ee35",
   "metadata": {},
   "source": [
    "................\n",
    "\n",
    "\n",
    "### Will avoid using feature Selection, our reduce the data dimension as we not going to use tuning, or searchcv, in order to make the model more faster to run.\n",
    "\n",
    "### As we will not use PCA, the high correlated columns with our target value must be removed.\n",
    "\n",
    "...................\n"
   ]
  },
  {
   "cell_type": "markdown",
   "id": "e660cce4",
   "metadata": {},
   "source": [
    "### Checking the correlations"
   ]
  },
  {
   "cell_type": "code",
   "execution_count": 376,
   "id": "dcb80ccb",
   "metadata": {},
   "outputs": [],
   "source": [
    "# split the target\n",
    "X = new_df.drop('KWH', axis=1)\n",
    "y = new_df['KWH']"
   ]
  },
  {
   "cell_type": "code",
   "execution_count": 370,
   "id": "9d7496ef",
   "metadata": {},
   "outputs": [
    {
     "data": {
      "text/plain": [
       "TYPEHUQ    -0.421689\n",
       "STUDIO     -0.416409\n",
       "NAPTFLRS   -0.402087\n",
       "KAVALNG    -0.343339\n",
       "PERIODNG   -0.341559\n",
       "              ...   \n",
       "DOLELOTH    0.762269\n",
       "BTUELOTH    0.882814\n",
       "KWHOTH      0.882864\n",
       "DOLLAREL    0.905530\n",
       "BTUEL       0.999963\n",
       "Length: 939, dtype: float64"
      ]
     },
     "execution_count": 370,
     "metadata": {},
     "output_type": "execute_result"
    }
   ],
   "source": [
    "cor = (new_df['KWH'])\n",
    "fields = list(new_df.drop('KWH', axis=1))\n",
    "correlations = new_df[fields].corrwith(cor)\n",
    "correlations.sort_values(inplace=True)\n",
    "correlations"
   ]
  },
  {
   "cell_type": "code",
   "execution_count": 426,
   "id": "fd9db24e",
   "metadata": {},
   "outputs": [
    {
     "data": {
      "text/plain": [
       "[BTUEL          0.999963\n",
       " DOLLAREL       0.905530\n",
       " KWHOTH         0.882864\n",
       " BTUELOTH       0.882814\n",
       " DOLELOTH       0.762269\n",
       " TOTALBTUOTH    0.727717\n",
       " TOTALDOLOTH    0.707762\n",
       " KWHRFG         0.658025\n",
       " BTUELRFG       0.649707\n",
       " TOTALBTURFG    0.649703\n",
       " TOTALDOL       0.645611\n",
       " KWHCOL         0.580204\n",
       " dtype: float64]"
      ]
     },
     "execution_count": 426,
     "metadata": {},
     "output_type": "execute_result"
    }
   ],
   "source": [
    "correlations_sample = [correlations.sort_values(ascending=False)[:12]]\n",
    "correlations_sample"
   ]
  },
  {
   "cell_type": "code",
   "execution_count": 415,
   "id": "8c18e4f8",
   "metadata": {},
   "outputs": [],
   "source": [
    "# Mask for removing the high correlated columns with target column.\n",
    "hh = correlations[correlations>0.6]\n",
    "hg = hh.index\n",
    "X = X.drop(X[hg], axis=1)"
   ]
  },
  {
   "cell_type": "code",
   "execution_count": 418,
   "id": "9f9e50e3",
   "metadata": {},
   "outputs": [],
   "source": [
    "import xgboost as xgb\n",
    "from sklearn.metrics import mean_squared_error\n",
    "from sklearn.model_selection import train_test_split\n",
    "\n",
    "\n",
    "# using dmatrix for acclaimed performance\n",
    "data_dmatrix = xgb.DMatrix(data=X,label=y)\n",
    "\n",
    "X_train, X_test, y_train, y_test = train_test_split(X, y, test_size=0.2, random_state=123)\n"
   ]
  },
  {
   "cell_type": "code",
   "execution_count": 419,
   "id": "e73ae117",
   "metadata": {},
   "outputs": [],
   "source": [
    "xg_reg = xgb.XGBRegressor(objective ='reg:linear', colsample_bytree = 0.3, learning_rate = 0.1,\n",
    "                max_depth = 5, alpha = 10, n_estimators = 10)\n"
   ]
  },
  {
   "cell_type": "code",
   "execution_count": 420,
   "id": "1f56a79a",
   "metadata": {},
   "outputs": [
    {
     "name": "stdout",
     "output_type": "stream",
     "text": [
      "[20:25:44] WARNING: C:/Users/Administrator/workspace/xgboost-win64_release_1.5.1/src/objective/regression_obj.cu:188: reg:linear is now deprecated in favor of reg:squarederror.\n"
     ]
    }
   ],
   "source": [
    "xg_reg.fit(X_train,y_train)\n",
    "\n",
    "preds = xg_reg.predict(X_test)"
   ]
  },
  {
   "cell_type": "code",
   "execution_count": 421,
   "id": "fbce72c2",
   "metadata": {},
   "outputs": [
    {
     "data": {
      "text/plain": [
       "3.0569744176109275"
      ]
     },
     "execution_count": 421,
     "metadata": {},
     "output_type": "execute_result"
    }
   ],
   "source": [
    "# checking the mean squared error, it's high as we didn't use any tuning tool\n",
    "rmse = np.sqrt(mean_squared_error(y_test, preds))\n",
    "rmse"
   ]
  },
  {
   "cell_type": "markdown",
   "id": "54f7d39d",
   "metadata": {},
   "source": [
    "### Finding the most effective feature in our target"
   ]
  },
  {
   "cell_type": "code",
   "execution_count": 422,
   "id": "ad47f0e7",
   "metadata": {},
   "outputs": [],
   "source": [
    "def plot_features(booster, figsize):    \n",
    "    fig, ax = plt.subplots(1,1,figsize=figsize)\n",
    "    return xgb.plot_importance(booster=booster, ax=ax)"
   ]
  },
  {
   "cell_type": "code",
   "execution_count": 423,
   "id": "cc8c6d1c",
   "metadata": {},
   "outputs": [
    {
     "data": {
      "text/plain": [
       "<AxesSubplot:title={'center':'Feature importance'}, xlabel='F score', ylabel='Features'>"
      ]
     },
     "execution_count": 423,
     "metadata": {},
     "output_type": "execute_result"
    },
    {
     "data": {
      "image/png": "[encoded data removed]",
      "text/plain": [
       "<Figure size 720x1008 with 1 Axes>"
      ]
     },
     "metadata": {
      "needs_background": "light"
     },
     "output_type": "display_data"
    }
   ],
   "source": [
    "plot_features(xg_reg, (10,14))"
   ]
  },
  {
   "cell_type": "markdown",
   "id": "41281194",
   "metadata": {},
   "source": [
    "## Analysis Report Summary"
   ]
  },
  {
   "cell_type": "markdown",
   "id": "ec4e079a",
   "metadata": {},
   "source": [
    "### Predicting the Total Site Electricity usage in kilowatt-hours, and find how to reduce the consumption from the most effective feature:\n",
    "\n",
    "#### * 9 features, is the most effective feature in Total Site Electricity usage in kilowatt-hours, 2009 (KWH) values.\n",
    "\n",
    "\n",
    "\n",
    "#### 1. Total usage in thousand BTU, 2009 (TOTLBTU) on top of the most effective feature in Total Site Electricity usage in kilowatt-hours, 2009 (KWH), \n",
    "Note: that point is not giving sense, need to double check the correlation columns.\n",
    "\n",
    "#### 2. then LPG/Propane usage for water heating, in thousand BTU, 2009 (BTULWTH) is the second effective feature in KWH.\n",
    "#### 3. Total usage for air conditioning, in thousand BTU, 2009 having also great effect in the Total Site Electricity usage, in kilowatt-hours which is give sense.\n",
    "#### 4. in the fourth level, we have some feature affecting equally in the Total Site Electricity usage, in kilowatt-hours.\n",
    "#### •\tElectricity cost for refrigerators, in whole dollars, 2009 (DOLELRFG).\n",
    "#### •\tElectricity usage for water heating, in kilowatt-hours, 2009 (KWHWTH).\n",
    "#### •\tElectricity usage for space heating, in kilowatt-hours, 2009 (KWHSPH).\n",
    "#### 5. in the fifth level, we have some feature affecting equally in the Total Site Electricity usage, in kilowatt-hours.\n",
    "#### •\tElectricity cost for air-conditioning, central and window/wall (room), in whole dollars, 2009 (DOLELCOL).\n",
    "#### •\tElectricity usage for air-conditioning, central and window/wall (room), in kilowatt-hours, 2009 (KWHCOL).\n",
    "#### •\tFrequency clothes washer used (WASHLOAD)\n",
    "\n",
    "### Final findings:\n",
    "\n",
    "### We can see in the graph some other effective points or feature, if we would reduce the consumption of that points or feature, or reduce the consumption of the first most effective features, that will be a great solution for reducing the total Site Electricity usage in kilowatt-hours.\n"
   ]
  },
  {
   "cell_type": "code",
   "execution_count": null,
   "id": "a46dc21d",
   "metadata": {},
   "outputs": [],
   "source": []
  }
 ],
 "metadata": {
  "kernelspec": {
   "display_name": "Python 3",
   "language": "python",
   "name": "python3"
  },
  "language_info": {
   "codemirror_mode": {
    "name": "ipython",
    "version": 3
   },
   "file_extension": ".py",
   "mimetype": "text/x-python",
   "name": "python",
   "nbconvert_exporter": "python",
   "pygments_lexer": "ipython3",
   "version": "3.8.8"
  }
 },
 "nbformat": 4,
 "nbformat_minor": 5
}
